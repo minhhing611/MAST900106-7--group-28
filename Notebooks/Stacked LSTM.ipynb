{
  "cells": [
    {
      "cell_type": "code",
      "execution_count": null,
      "metadata": {
        "id": "x0WTVFchX_Qk"
      },
      "outputs": [],
      "source": [
        "import os\n",
        "import glob\n",
        "\n",
        "import pandas as pd\n",
        "import numpy as np\n",
        "\n",
        "import matplotlib.pyplot as plt\n",
        "from sklearn.model_selection import train_test_split\n",
        "\n",
        "import time\n",
        "import pickle\n",
        "\n",
        "import tensorflow as tf\n",
        "from keras.models import Model\n",
        "from keras.layers import Input\n",
        "from keras.layers import LSTM\n",
        "from keras.layers import Bidirectional\n",
        "from keras.layers import GlobalMaxPool1D\n",
        "from keras.layers import Dense\n",
        "from keras.layers import Dropout\n",
        "from keras.layers import BatchNormalization\n",
        "from tensorflow.keras import Sequential, regularizers, optimizers\n",
        "from tensorflow.keras.callbacks import EarlyStopping\n",
        "\n",
        "from tensorflow.keras.optimizers import SGD\n",
        "from tensorflow.keras.optimizers import Adam\n",
        "\n",
        "from keras.callbacks import ModelCheckpoint"
      ]
    },
    {
      "cell_type": "markdown",
      "metadata": {
        "id": "YELVi5aaiRgX"
      },
      "source": [
        "# Data Loading"
      ]
    },
    {
      "cell_type": "code",
      "execution_count": null,
      "metadata": {
        "colab": {
          "base_uri": "https://localhost:8080/"
        },
        "id": "2aQknlBFYrEy",
        "outputId": "791a1bb0-ba5f-4603-f137-aebb3accfc97"
      },
      "outputs": [
        {
          "output_type": "stream",
          "name": "stdout",
          "text": [
            "Mounted at /content/gdrive\n"
          ]
        }
      ],
      "source": [
        "# connect to data folder\n",
        "from google.colab import drive\n",
        "drive.mount('/content/gdrive')\n",
        "\n",
        "import os\n",
        "os.chdir(\"/content/gdrive/MyDrive/AF_detection_MIT_data\") # need to change file name"
      ]
    },
    {
      "cell_type": "code",
      "execution_count": null,
      "metadata": {
        "id": "Vhqu1m-nYuK9"
      },
      "outputs": [],
      "source": [
        "# import preprocessed dataset by Alex's team\n",
        "data_train = 'patient_data_100_beat_window_99_beat_overlap/train/'\n",
        "data_test = 'patient_data_100_beat_window_99_beat_overlap/test/'"
      ]
    },
    {
      "cell_type": "code",
      "execution_count": null,
      "metadata": {
        "id": "T4CXRcCnZM_3"
      },
      "outputs": [],
      "source": [
        "file_list = glob.glob(data_train + '*.csv', recursive = True)"
      ]
    },
    {
      "cell_type": "code",
      "execution_count": null,
      "metadata": {
        "id": "TuZ2_3PdZdN8"
      },
      "outputs": [],
      "source": [
        "patients  = [(os.path.split(i)[1]).split('_')[0] for i in file_list]"
      ]
    },
    {
      "cell_type": "code",
      "execution_count": null,
      "metadata": {
        "colab": {
          "base_uri": "https://localhost:8080/"
        },
        "id": "o-61AUU2ZfY-",
        "outputId": "e97f790d-5523-4907-94c4-d750017a8d94"
      },
      "outputs": [
        {
          "output_type": "execute_result",
          "data": {
            "text/plain": [
              "['08378',\n",
              " '04126',\n",
              " '05091',\n",
              " '04048',\n",
              " '04043',\n",
              " '04936',\n",
              " '06995',\n",
              " '07162',\n",
              " '05121',\n",
              " '04015',\n",
              " '07910',\n",
              " '04746',\n",
              " '06426',\n",
              " '04908',\n",
              " '08219',\n",
              " '08215',\n",
              " '07859',\n",
              " '05261',\n",
              " '06453',\n",
              " '07879']"
            ]
          },
          "metadata": {},
          "execution_count": 7
        }
      ],
      "source": [
        "patients"
      ]
    },
    {
      "cell_type": "code",
      "execution_count": null,
      "metadata": {
        "id": "UXER5LFCZmfK"
      },
      "outputs": [],
      "source": [
        "frames = [pd.read_csv(p, header = None) for p in file_list] # a patient with his data, total 20 patients\n",
        "data = pd.concat(frames, ignore_index = True)"
      ]
    },
    {
      "cell_type": "code",
      "execution_count": null,
      "metadata": {
        "colab": {
          "base_uri": "https://localhost:8080/",
          "height": 488
        },
        "id": "1TO5lRWwdraK",
        "outputId": "db6938f6-5d2f-4aa0-aa58-4c31f2cc1379"
      },
      "outputs": [
        {
          "output_type": "execute_result",
          "data": {
            "text/plain": [
              "        0    1    2    3    4    5    6    7    8    9    ...  91   92   93   \\\n",
              "4065      1  114  115  115  115  116  116  116  118  119  ...  204  204  205   \n",
              "4066      2  115  115  115  116  116  116  118  119  121  ...  204  205  206   \n",
              "4067      3  115  115  116  116  116  118  119  121  120  ...  205  206  207   \n",
              "4068      4  115  116  116  116  118  119  121  120  121  ...  206  207  208   \n",
              "4069      5  116  116  116  118  119  121  120  121  120  ...  207  208  207   \n",
              "...     ...  ...  ...  ...  ...  ...  ...  ...  ...  ...  ...  ...  ...  ...   \n",
              "961022    5  104  108  159  107  283  305  277  295  192  ...  253  267  257   \n",
              "961023    4  108  159  107  283  305  277  295  192  321  ...  267  257  249   \n",
              "961024    3  159  107  283  305  277  295  192  321  273  ...  257  249  259   \n",
              "961025    2  107  283  305  277  295  192  321  273  284  ...  249  259  255   \n",
              "961026    1  283  305  277  295  192  321  273  284  273  ...  259  255  256   \n",
              "\n",
              "        94   95   96   97   98   99   100  \n",
              "4065    206  207  208  207  211  212  130  \n",
              "4066    207  208  207  211  212  130  129  \n",
              "4067    208  207  211  212  130  129  142  \n",
              "4068    207  211  212  130  129  142  224  \n",
              "4069    211  212  130  129  142  224  170  \n",
              "...     ...  ...  ...  ...  ...  ...  ...  \n",
              "961022  249  259  255  256  261  255  251  \n",
              "961023  259  255  256  261  255  251  269  \n",
              "961024  255  256  261  255  251  269  254  \n",
              "961025  256  261  255  251  269  254  228  \n",
              "961026  261  255  251  269  254  228  288  \n",
              "\n",
              "[438022 rows x 101 columns]"
            ],
            "text/html": [
              "\n",
              "  <div id=\"df-22ceb619-0bf0-4faf-a74e-0fdc967c7d8e\">\n",
              "    <div class=\"colab-df-container\">\n",
              "      <div>\n",
              "<style scoped>\n",
              "    .dataframe tbody tr th:only-of-type {\n",
              "        vertical-align: middle;\n",
              "    }\n",
              "\n",
              "    .dataframe tbody tr th {\n",
              "        vertical-align: top;\n",
              "    }\n",
              "\n",
              "    .dataframe thead th {\n",
              "        text-align: right;\n",
              "    }\n",
              "</style>\n",
              "<table border=\"1\" class=\"dataframe\">\n",
              "  <thead>\n",
              "    <tr style=\"text-align: right;\">\n",
              "      <th></th>\n",
              "      <th>0</th>\n",
              "      <th>1</th>\n",
              "      <th>2</th>\n",
              "      <th>3</th>\n",
              "      <th>4</th>\n",
              "      <th>5</th>\n",
              "      <th>6</th>\n",
              "      <th>7</th>\n",
              "      <th>8</th>\n",
              "      <th>9</th>\n",
              "      <th>...</th>\n",
              "      <th>91</th>\n",
              "      <th>92</th>\n",
              "      <th>93</th>\n",
              "      <th>94</th>\n",
              "      <th>95</th>\n",
              "      <th>96</th>\n",
              "      <th>97</th>\n",
              "      <th>98</th>\n",
              "      <th>99</th>\n",
              "      <th>100</th>\n",
              "    </tr>\n",
              "  </thead>\n",
              "  <tbody>\n",
              "    <tr>\n",
              "      <th>4065</th>\n",
              "      <td>1</td>\n",
              "      <td>114</td>\n",
              "      <td>115</td>\n",
              "      <td>115</td>\n",
              "      <td>115</td>\n",
              "      <td>116</td>\n",
              "      <td>116</td>\n",
              "      <td>116</td>\n",
              "      <td>118</td>\n",
              "      <td>119</td>\n",
              "      <td>...</td>\n",
              "      <td>204</td>\n",
              "      <td>204</td>\n",
              "      <td>205</td>\n",
              "      <td>206</td>\n",
              "      <td>207</td>\n",
              "      <td>208</td>\n",
              "      <td>207</td>\n",
              "      <td>211</td>\n",
              "      <td>212</td>\n",
              "      <td>130</td>\n",
              "    </tr>\n",
              "    <tr>\n",
              "      <th>4066</th>\n",
              "      <td>2</td>\n",
              "      <td>115</td>\n",
              "      <td>115</td>\n",
              "      <td>115</td>\n",
              "      <td>116</td>\n",
              "      <td>116</td>\n",
              "      <td>116</td>\n",
              "      <td>118</td>\n",
              "      <td>119</td>\n",
              "      <td>121</td>\n",
              "      <td>...</td>\n",
              "      <td>204</td>\n",
              "      <td>205</td>\n",
              "      <td>206</td>\n",
              "      <td>207</td>\n",
              "      <td>208</td>\n",
              "      <td>207</td>\n",
              "      <td>211</td>\n",
              "      <td>212</td>\n",
              "      <td>130</td>\n",
              "      <td>129</td>\n",
              "    </tr>\n",
              "    <tr>\n",
              "      <th>4067</th>\n",
              "      <td>3</td>\n",
              "      <td>115</td>\n",
              "      <td>115</td>\n",
              "      <td>116</td>\n",
              "      <td>116</td>\n",
              "      <td>116</td>\n",
              "      <td>118</td>\n",
              "      <td>119</td>\n",
              "      <td>121</td>\n",
              "      <td>120</td>\n",
              "      <td>...</td>\n",
              "      <td>205</td>\n",
              "      <td>206</td>\n",
              "      <td>207</td>\n",
              "      <td>208</td>\n",
              "      <td>207</td>\n",
              "      <td>211</td>\n",
              "      <td>212</td>\n",
              "      <td>130</td>\n",
              "      <td>129</td>\n",
              "      <td>142</td>\n",
              "    </tr>\n",
              "    <tr>\n",
              "      <th>4068</th>\n",
              "      <td>4</td>\n",
              "      <td>115</td>\n",
              "      <td>116</td>\n",
              "      <td>116</td>\n",
              "      <td>116</td>\n",
              "      <td>118</td>\n",
              "      <td>119</td>\n",
              "      <td>121</td>\n",
              "      <td>120</td>\n",
              "      <td>121</td>\n",
              "      <td>...</td>\n",
              "      <td>206</td>\n",
              "      <td>207</td>\n",
              "      <td>208</td>\n",
              "      <td>207</td>\n",
              "      <td>211</td>\n",
              "      <td>212</td>\n",
              "      <td>130</td>\n",
              "      <td>129</td>\n",
              "      <td>142</td>\n",
              "      <td>224</td>\n",
              "    </tr>\n",
              "    <tr>\n",
              "      <th>4069</th>\n",
              "      <td>5</td>\n",
              "      <td>116</td>\n",
              "      <td>116</td>\n",
              "      <td>116</td>\n",
              "      <td>118</td>\n",
              "      <td>119</td>\n",
              "      <td>121</td>\n",
              "      <td>120</td>\n",
              "      <td>121</td>\n",
              "      <td>120</td>\n",
              "      <td>...</td>\n",
              "      <td>207</td>\n",
              "      <td>208</td>\n",
              "      <td>207</td>\n",
              "      <td>211</td>\n",
              "      <td>212</td>\n",
              "      <td>130</td>\n",
              "      <td>129</td>\n",
              "      <td>142</td>\n",
              "      <td>224</td>\n",
              "      <td>170</td>\n",
              "    </tr>\n",
              "    <tr>\n",
              "      <th>...</th>\n",
              "      <td>...</td>\n",
              "      <td>...</td>\n",
              "      <td>...</td>\n",
              "      <td>...</td>\n",
              "      <td>...</td>\n",
              "      <td>...</td>\n",
              "      <td>...</td>\n",
              "      <td>...</td>\n",
              "      <td>...</td>\n",
              "      <td>...</td>\n",
              "      <td>...</td>\n",
              "      <td>...</td>\n",
              "      <td>...</td>\n",
              "      <td>...</td>\n",
              "      <td>...</td>\n",
              "      <td>...</td>\n",
              "      <td>...</td>\n",
              "      <td>...</td>\n",
              "      <td>...</td>\n",
              "      <td>...</td>\n",
              "      <td>...</td>\n",
              "    </tr>\n",
              "    <tr>\n",
              "      <th>961022</th>\n",
              "      <td>5</td>\n",
              "      <td>104</td>\n",
              "      <td>108</td>\n",
              "      <td>159</td>\n",
              "      <td>107</td>\n",
              "      <td>283</td>\n",
              "      <td>305</td>\n",
              "      <td>277</td>\n",
              "      <td>295</td>\n",
              "      <td>192</td>\n",
              "      <td>...</td>\n",
              "      <td>253</td>\n",
              "      <td>267</td>\n",
              "      <td>257</td>\n",
              "      <td>249</td>\n",
              "      <td>259</td>\n",
              "      <td>255</td>\n",
              "      <td>256</td>\n",
              "      <td>261</td>\n",
              "      <td>255</td>\n",
              "      <td>251</td>\n",
              "    </tr>\n",
              "    <tr>\n",
              "      <th>961023</th>\n",
              "      <td>4</td>\n",
              "      <td>108</td>\n",
              "      <td>159</td>\n",
              "      <td>107</td>\n",
              "      <td>283</td>\n",
              "      <td>305</td>\n",
              "      <td>277</td>\n",
              "      <td>295</td>\n",
              "      <td>192</td>\n",
              "      <td>321</td>\n",
              "      <td>...</td>\n",
              "      <td>267</td>\n",
              "      <td>257</td>\n",
              "      <td>249</td>\n",
              "      <td>259</td>\n",
              "      <td>255</td>\n",
              "      <td>256</td>\n",
              "      <td>261</td>\n",
              "      <td>255</td>\n",
              "      <td>251</td>\n",
              "      <td>269</td>\n",
              "    </tr>\n",
              "    <tr>\n",
              "      <th>961024</th>\n",
              "      <td>3</td>\n",
              "      <td>159</td>\n",
              "      <td>107</td>\n",
              "      <td>283</td>\n",
              "      <td>305</td>\n",
              "      <td>277</td>\n",
              "      <td>295</td>\n",
              "      <td>192</td>\n",
              "      <td>321</td>\n",
              "      <td>273</td>\n",
              "      <td>...</td>\n",
              "      <td>257</td>\n",
              "      <td>249</td>\n",
              "      <td>259</td>\n",
              "      <td>255</td>\n",
              "      <td>256</td>\n",
              "      <td>261</td>\n",
              "      <td>255</td>\n",
              "      <td>251</td>\n",
              "      <td>269</td>\n",
              "      <td>254</td>\n",
              "    </tr>\n",
              "    <tr>\n",
              "      <th>961025</th>\n",
              "      <td>2</td>\n",
              "      <td>107</td>\n",
              "      <td>283</td>\n",
              "      <td>305</td>\n",
              "      <td>277</td>\n",
              "      <td>295</td>\n",
              "      <td>192</td>\n",
              "      <td>321</td>\n",
              "      <td>273</td>\n",
              "      <td>284</td>\n",
              "      <td>...</td>\n",
              "      <td>249</td>\n",
              "      <td>259</td>\n",
              "      <td>255</td>\n",
              "      <td>256</td>\n",
              "      <td>261</td>\n",
              "      <td>255</td>\n",
              "      <td>251</td>\n",
              "      <td>269</td>\n",
              "      <td>254</td>\n",
              "      <td>228</td>\n",
              "    </tr>\n",
              "    <tr>\n",
              "      <th>961026</th>\n",
              "      <td>1</td>\n",
              "      <td>283</td>\n",
              "      <td>305</td>\n",
              "      <td>277</td>\n",
              "      <td>295</td>\n",
              "      <td>192</td>\n",
              "      <td>321</td>\n",
              "      <td>273</td>\n",
              "      <td>284</td>\n",
              "      <td>273</td>\n",
              "      <td>...</td>\n",
              "      <td>259</td>\n",
              "      <td>255</td>\n",
              "      <td>256</td>\n",
              "      <td>261</td>\n",
              "      <td>255</td>\n",
              "      <td>251</td>\n",
              "      <td>269</td>\n",
              "      <td>254</td>\n",
              "      <td>228</td>\n",
              "      <td>288</td>\n",
              "    </tr>\n",
              "  </tbody>\n",
              "</table>\n",
              "<p>438022 rows × 101 columns</p>\n",
              "</div>\n",
              "      <button class=\"colab-df-convert\" onclick=\"convertToInteractive('df-22ceb619-0bf0-4faf-a74e-0fdc967c7d8e')\"\n",
              "              title=\"Convert this dataframe to an interactive table.\"\n",
              "              style=\"display:none;\">\n",
              "        \n",
              "  <svg xmlns=\"http://www.w3.org/2000/svg\" height=\"24px\"viewBox=\"0 0 24 24\"\n",
              "       width=\"24px\">\n",
              "    <path d=\"M0 0h24v24H0V0z\" fill=\"none\"/>\n",
              "    <path d=\"M18.56 5.44l.94 2.06.94-2.06 2.06-.94-2.06-.94-.94-2.06-.94 2.06-2.06.94zm-11 1L8.5 8.5l.94-2.06 2.06-.94-2.06-.94L8.5 2.5l-.94 2.06-2.06.94zm10 10l.94 2.06.94-2.06 2.06-.94-2.06-.94-.94-2.06-.94 2.06-2.06.94z\"/><path d=\"M17.41 7.96l-1.37-1.37c-.4-.4-.92-.59-1.43-.59-.52 0-1.04.2-1.43.59L10.3 9.45l-7.72 7.72c-.78.78-.78 2.05 0 2.83L4 21.41c.39.39.9.59 1.41.59.51 0 1.02-.2 1.41-.59l7.78-7.78 2.81-2.81c.8-.78.8-2.07 0-2.86zM5.41 20L4 18.59l7.72-7.72 1.47 1.35L5.41 20z\"/>\n",
              "  </svg>\n",
              "      </button>\n",
              "      \n",
              "  <style>\n",
              "    .colab-df-container {\n",
              "      display:flex;\n",
              "      flex-wrap:wrap;\n",
              "      gap: 12px;\n",
              "    }\n",
              "\n",
              "    .colab-df-convert {\n",
              "      background-color: #E8F0FE;\n",
              "      border: none;\n",
              "      border-radius: 50%;\n",
              "      cursor: pointer;\n",
              "      display: none;\n",
              "      fill: #1967D2;\n",
              "      height: 32px;\n",
              "      padding: 0 0 0 0;\n",
              "      width: 32px;\n",
              "    }\n",
              "\n",
              "    .colab-df-convert:hover {\n",
              "      background-color: #E2EBFA;\n",
              "      box-shadow: 0px 1px 2px rgba(60, 64, 67, 0.3), 0px 1px 3px 1px rgba(60, 64, 67, 0.15);\n",
              "      fill: #174EA6;\n",
              "    }\n",
              "\n",
              "    [theme=dark] .colab-df-convert {\n",
              "      background-color: #3B4455;\n",
              "      fill: #D2E3FC;\n",
              "    }\n",
              "\n",
              "    [theme=dark] .colab-df-convert:hover {\n",
              "      background-color: #434B5C;\n",
              "      box-shadow: 0px 1px 3px 1px rgba(0, 0, 0, 0.15);\n",
              "      filter: drop-shadow(0px 1px 2px rgba(0, 0, 0, 0.3));\n",
              "      fill: #FFFFFF;\n",
              "    }\n",
              "  </style>\n",
              "\n",
              "      <script>\n",
              "        const buttonEl =\n",
              "          document.querySelector('#df-22ceb619-0bf0-4faf-a74e-0fdc967c7d8e button.colab-df-convert');\n",
              "        buttonEl.style.display =\n",
              "          google.colab.kernel.accessAllowed ? 'block' : 'none';\n",
              "\n",
              "        async function convertToInteractive(key) {\n",
              "          const element = document.querySelector('#df-22ceb619-0bf0-4faf-a74e-0fdc967c7d8e');\n",
              "          const dataTable =\n",
              "            await google.colab.kernel.invokeFunction('convertToInteractive',\n",
              "                                                     [key], {});\n",
              "          if (!dataTable) return;\n",
              "\n",
              "          const docLinkHtml = 'Like what you see? Visit the ' +\n",
              "            '<a target=\"_blank\" href=https://colab.research.google.com/notebooks/data_table.ipynb>data table notebook</a>'\n",
              "            + ' to learn more about interactive tables.';\n",
              "          element.innerHTML = '';\n",
              "          dataTable['output_type'] = 'display_data';\n",
              "          await google.colab.output.renderOutput(dataTable, element);\n",
              "          const docLink = document.createElement('div');\n",
              "          docLink.innerHTML = docLinkHtml;\n",
              "          element.appendChild(docLink);\n",
              "        }\n",
              "      </script>\n",
              "    </div>\n",
              "  </div>\n",
              "  "
            ]
          },
          "metadata": {},
          "execution_count": 9
        }
      ],
      "source": [
        "data[data[0] != 0]"
      ]
    },
    {
      "cell_type": "code",
      "execution_count": null,
      "metadata": {
        "colab": {
          "base_uri": "https://localhost:8080/"
        },
        "id": "a0R-ci5EZz1o",
        "outputId": "07d1d6de-89e1-4838-96e7-e9a5fa861893"
      },
      "outputs": [
        {
          "output_type": "stream",
          "name": "stdout",
          "text": [
            "we have (968303, 101) data points from 20 patients!\n"
          ]
        }
      ],
      "source": [
        "print('we have {0} data points from {1} patients!'.format(data.shape, len(patients)))"
      ]
    },
    {
      "cell_type": "code",
      "execution_count": null,
      "metadata": {
        "colab": {
          "base_uri": "https://localhost:8080/"
        },
        "id": "EWaNdw7LbNl1",
        "outputId": "14dbe5e3-6860-46a8-952a-3834db973b3e"
      },
      "outputs": [
        {
          "output_type": "execute_result",
          "data": {
            "text/plain": [
              "(968303, 101)"
            ]
          },
          "metadata": {},
          "execution_count": 12
        }
      ],
      "source": [
        "# total number of heart beats\n",
        "data.shape"
      ]
    },
    {
      "cell_type": "markdown",
      "metadata": {
        "id": "wPnd2IHuiYv6"
      },
      "source": [
        "# Data Preprocessing"
      ]
    },
    {
      "cell_type": "code",
      "execution_count": null,
      "metadata": {
        "id": "m5FhJyWac_rS"
      },
      "outputs": [],
      "source": [
        "# split the data into variables and labels (0 = Non-AF, 1 = AF)\n",
        "x_data = data.iloc[:,1:].values\n",
        "y_data = data.iloc[:,0].values\n",
        "y_data[y_data > 0] = 1"
      ]
    },
    {
      "cell_type": "code",
      "execution_count": null,
      "metadata": {
        "colab": {
          "base_uri": "https://localhost:8080/"
        },
        "id": "RePREU6ndONj",
        "outputId": "7671fcc1-ed47-45c0-cb92-df525e265e29"
      },
      "outputs": [
        {
          "output_type": "execute_result",
          "data": {
            "text/plain": [
              "array([[208, 197, 197, ..., 294, 220, 211],\n",
              "       [197, 197, 199, ..., 220, 211, 210],\n",
              "       [197, 199, 199, ..., 211, 210, 210],\n",
              "       ...,\n",
              "       [224, 227, 224, ..., 225, 222, 221],\n",
              "       [227, 224, 222, ..., 222, 221, 225],\n",
              "       [224, 222, 221, ..., 221, 225, 222]])"
            ]
          },
          "metadata": {},
          "execution_count": 14
        }
      ],
      "source": [
        "x_data"
      ]
    },
    {
      "cell_type": "code",
      "execution_count": null,
      "metadata": {
        "colab": {
          "base_uri": "https://localhost:8080/"
        },
        "id": "gXdj7Q71ebwO",
        "outputId": "70e11e5e-d456-4e5c-f7d8-b6602288ebb7"
      },
      "outputs": [
        {
          "output_type": "stream",
          "name": "stdout",
          "text": [
            "there are 438022 out of 968303 samples that have at least one beat that is classified as atrial fibrillation\n"
          ]
        }
      ],
      "source": [
        "print('there are {0} out of {1} samples that have at least one beat that '\n",
        "      'is classified as atrial fibrillation'.format(sum(y_data), len(y_data)))"
      ]
    },
    {
      "cell_type": "code",
      "source": [
        "y_df = pd.DataFrame(y_data).value_counts()\n",
        "plt.figure(figsize = (20,10))\n",
        "my_circle = plt.Circle( (0,0), 0.7, color = 'white')\n",
        "plt.pie(y_df, labels = ['Non-AF', 'AF'], colors = ['tab:blue','tab:orange'],autopct = '%1.1f%%')\n",
        "p = plt.gcf()\n",
        "p.gca().add_artist(my_circle)\n",
        "plt.show()"
      ],
      "metadata": {
        "colab": {
          "base_uri": "https://localhost:8080/",
          "height": 575
        },
        "id": "3RAuTq9L8_KY",
        "outputId": "21017329-4058-477f-aa45-2ea8b5da744b"
      },
      "execution_count": null,
      "outputs": [
        {
          "output_type": "display_data",
          "data": {
            "text/plain": [
              "<Figure size 1440x720 with 1 Axes>"
            ],
            "image/png": "[encoded data removed]"
          },
          "metadata": {}
        }
      ]
    },
    {
      "cell_type": "code",
      "execution_count": null,
      "metadata": {
        "id": "jyxjHf-pfSf9"
      },
      "outputs": [],
      "source": [
        "# train/test split\n",
        "x_train, x_test, y_train, y_test = train_test_split(x_data, y_data,\n",
        "                                                    stratify = y_data, \n",
        "                                                    test_size = 0.25,\n",
        "                                                    random_state = seed)"
      ]
    },
    {
      "cell_type": "code",
      "execution_count": null,
      "metadata": {
        "colab": {
          "base_uri": "https://localhost:8080/"
        },
        "id": "ROH_adQTh-sO",
        "outputId": "f3bed472-c8fe-4b0e-d1e0-559d5073efd8"
      },
      "outputs": [
        {
          "output_type": "execute_result",
          "data": {
            "text/plain": [
              "array([[150, 163, 131, ..., 152, 154, 103],\n",
              "       [145, 147, 149, ..., 147, 144, 149],\n",
              "       [139, 187, 149, ..., 143, 195, 150],\n",
              "       ...,\n",
              "       [212, 209, 214, ..., 138, 259, 213],\n",
              "       [145, 142, 139, ..., 144, 146, 147],\n",
              "       [131, 112, 204, ..., 135, 131, 136]])"
            ]
          },
          "metadata": {},
          "execution_count": 19
        }
      ],
      "source": [
        "x_train"
      ]
    },
    {
      "cell_type": "code",
      "execution_count": null,
      "metadata": {
        "id": "p2rYFZZunzNn"
      },
      "outputs": [],
      "source": [
        "# data normalization\n",
        "# from sklearn.preprocessing import MinMaxScaler\n",
        "\n",
        "# scaler = MinMaxScaler()\n",
        "# x_train = scaler.fit_transform(x_train)\n",
        "# x_test = scaler.fit_transform(x_test)"
      ]
    },
    {
      "cell_type": "code",
      "execution_count": null,
      "metadata": {
        "id": "tSJf6AD-h0vv"
      },
      "outputs": [],
      "source": [
        "# reformat the training and test sets to be able to input in the lstm \n",
        "x_train = x_train.reshape(x_train.shape[0], x_train.shape[1], 1)\n",
        "x_test  = x_test.reshape(x_test.shape[0], x_test.shape[1], 1)"
      ]
    },
    {
      "cell_type": "code",
      "execution_count": null,
      "metadata": {
        "colab": {
          "base_uri": "https://localhost:8080/"
        },
        "id": "rmeQAhfTiBMv",
        "outputId": "dc68ac64-4809-4a55-ca07-16e0a30eed42"
      },
      "outputs": [
        {
          "output_type": "execute_result",
          "data": {
            "text/plain": [
              "(726227, 100, 1)"
            ]
          },
          "metadata": {},
          "execution_count": 22
        }
      ],
      "source": [
        "x_train.shape"
      ]
    },
    {
      "cell_type": "code",
      "execution_count": null,
      "metadata": {
        "id": "kenF7F_CiCVg"
      },
      "outputs": [],
      "source": [
        "# save the data with numpy so we can use it later\n",
        "# datafile = './data/training_and_validation.npz'\n",
        "# np.savez(datafile, \n",
        "#          x_train=x_train, x_test=x_test, \n",
        "#          y_train=y_train, y_test=y_test)"
      ]
    },
    {
      "cell_type": "markdown",
      "metadata": {
        "id": "jkSHwWTK5MN8"
      },
      "source": [
        "# Model Building"
      ]
    },
    {
      "cell_type": "code",
      "execution_count": null,
      "metadata": {
        "id": "qDnbM2lqjayd"
      },
      "outputs": [],
      "source": [
        "# set the model parameters\n",
        "n_timesteps = x_train.shape[1]\n",
        "mode = 'concat'\n",
        "n_epochs = 30\n",
        "batch_size = 1024"
      ]
    },
    {
      "cell_type": "code",
      "execution_count": null,
      "metadata": {
        "colab": {
          "base_uri": "https://localhost:8080/"
        },
        "id": "kY8KbI9HjgHr",
        "outputId": "bd70dbdd-0fbb-4185-cc76-d32708204856"
      },
      "outputs": [
        {
          "output_type": "stream",
          "name": "stderr",
          "text": [
            "WARNING:tensorflow:Layer lstm will not use cuDNN kernels since it doesn't meet the criteria. It will use a generic GPU kernel as fallback when running on GPU.\n",
            "WARNING:tensorflow:Layer lstm will not use cuDNN kernels since it doesn't meet the criteria. It will use a generic GPU kernel as fallback when running on GPU.\n",
            "WARNING:tensorflow:Layer lstm will not use cuDNN kernels since it doesn't meet the criteria. It will use a generic GPU kernel as fallback when running on GPU.\n"
          ]
        }
      ],
      "source": [
        "# create a stacked lstm model (bidirectional lstm + lstm)\n",
        "## regularization can be considered to prevent overfitting for future use if necessary \n",
        "input = Input(shape = (n_timesteps,1,))\n",
        "x = Bidirectional(LSTM(150, \n",
        "                       return_sequences = True, \n",
        "                       dropout = 0.1, \n",
        "                       recurrent_dropout = 0.1, \n",
        "                       #recurrent_regularizer=regularizers.l2(0.02),\n",
        "                       #merge_mode = mode\n",
        "                       ))(input)\n",
        "x = LSTM(100, return_sequences = True)(x)    \n",
        "# x = Dropout(0.2)(x)             \n",
        "x = GlobalMaxPool1D()(x)\n",
        "x = Dense(50, activation = \"relu\")(x)#, activity_regularizer=regularizers.l2(0.01))(x)\n",
        "x = Dropout(0.1)(x)\n",
        "x = Dense(1, activation = 'sigmoid')(x)#, activity_regularizer=regularizers.l2(0.01))(x)\n",
        "model = Model(inputs = input, outputs = x)"
      ]
    },
    {
      "cell_type": "code",
      "execution_count": null,
      "metadata": {
        "colab": {
          "base_uri": "https://localhost:8080/"
        },
        "id": "wJO7WtzNEXe0",
        "outputId": "bb08169c-1f72-4eb6-f80d-d3c01b55a48c"
      },
      "outputs": [
        {
          "output_type": "stream",
          "name": "stdout",
          "text": [
            "Model: \"model\"\n",
            "_________________________________________________________________\n",
            " Layer (type)                Output Shape              Param #   \n",
            "=================================================================\n",
            " input_1 (InputLayer)        [(None, 100, 1)]          0         \n",
            "                                                                 \n",
            " bidirectional (Bidirectiona  (None, 100, 300)         182400    \n",
            " l)                                                              \n",
            "                                                                 \n",
            " lstm_1 (LSTM)               (None, 100, 100)          160400    \n",
            "                                                                 \n",
            " global_max_pooling1d (Globa  (None, 100)              0         \n",
            " lMaxPooling1D)                                                  \n",
            "                                                                 \n",
            " dense (Dense)               (None, 50)                5050      \n",
            "                                                                 \n",
            " dropout (Dropout)           (None, 50)                0         \n",
            "                                                                 \n",
            " dense_1 (Dense)             (None, 1)                 51        \n",
            "                                                                 \n",
            "=================================================================\n",
            "Total params: 347,901\n",
            "Trainable params: 347,901\n",
            "Non-trainable params: 0\n",
            "_________________________________________________________________\n"
          ]
        }
      ],
      "source": [
        "model.summary()"
      ]
    },
    {
      "cell_type": "code",
      "execution_count": null,
      "metadata": {
        "id": "rA7-1ifbjyYr"
      },
      "outputs": [],
      "source": [
        "# set the optimiser\n",
        "opt = Adam()"
      ]
    },
    {
      "cell_type": "code",
      "execution_count": null,
      "metadata": {
        "id": "Sv408TpIj1Ka"
      },
      "outputs": [],
      "source": [
        "# compile model\n",
        "model.compile(loss = 'binary_crossentropy', optimizer = opt, metrics = ['accuracy'])"
      ]
    },
    {
      "cell_type": "code",
      "execution_count": null,
      "metadata": {
        "id": "xJ_DIrTNj3xa"
      },
      "outputs": [],
      "source": [
        "# set up a model checkpoint callback (including making the directory where to save our weights)\n",
        "# set up a model earlystop with 5 patience (model will stop training as 'val_loss did not improve from previous epoch' occurs 5 times)\n",
        "directory = './model/initial_runs_{0}/'.format(time.strftime(\"%Y%m%d_%H%M\"))\n",
        "os.makedirs(directory)\n",
        "filename  = 'af_lstm_weights.{epoch:02d}-{val_loss:.2f}.hdf5'\n",
        "check_pointer = ModelCheckpoint(filepath = directory+filename, \n",
        "                               verbose = 1, \n",
        "                               save_best_only = True)\n",
        "early_stop = EarlyStopping(monitor = 'val_loss', \n",
        "                          patience = 5, \n",
        "                          verbose = 1)"
      ]
    },
    {
      "cell_type": "code",
      "execution_count": null,
      "metadata": {
        "colab": {
          "base_uri": "https://localhost:8080/"
        },
        "id": "g1xcdL6ykAWG",
        "outputId": "49ca0c07-0d61-4192-a5eb-b4aa584ef5ea"
      },
      "outputs": [
        {
          "output_type": "stream",
          "name": "stdout",
          "text": [
            "Epoch 1/30\n",
            "710/710 [==============================] - ETA: 0s - loss: 0.2084 - accuracy: 0.9144\n",
            "Epoch 1: val_loss improved from inf to 0.11782, saving model to ./model/initial_runs_20221012_1205/af_lstm_weights.01-0.12.hdf5\n",
            "710/710 [==============================] - 548s 747ms/step - loss: 0.2084 - accuracy: 0.9144 - val_loss: 0.1178 - val_accuracy: 0.9536\n",
            "Epoch 2/30\n",
            "710/710 [==============================] - ETA: 0s - loss: 0.0575 - accuracy: 0.9802\n",
            "Epoch 2: val_loss improved from 0.11782 to 0.05593, saving model to ./model/initial_runs_20221012_1205/af_lstm_weights.02-0.06.hdf5\n",
            "710/710 [==============================] - 521s 734ms/step - loss: 0.0575 - accuracy: 0.9802 - val_loss: 0.0559 - val_accuracy: 0.9807\n",
            "Epoch 3/30\n",
            "710/710 [==============================] - ETA: 0s - loss: 0.0420 - accuracy: 0.9858\n",
            "Epoch 3: val_loss did not improve from 0.05593\n",
            "710/710 [==============================] - 508s 716ms/step - loss: 0.0420 - accuracy: 0.9858 - val_loss: 0.0582 - val_accuracy: 0.9798\n",
            "Epoch 4/30\n",
            "710/710 [==============================] - ETA: 0s - loss: 0.0341 - accuracy: 0.9886\n",
            "Epoch 4: val_loss improved from 0.05593 to 0.03798, saving model to ./model/initial_runs_20221012_1205/af_lstm_weights.04-0.04.hdf5\n",
            "710/710 [==============================] - 506s 713ms/step - loss: 0.0341 - accuracy: 0.9886 - val_loss: 0.0380 - val_accuracy: 0.9872\n",
            "Epoch 5/30\n",
            "710/710 [==============================] - ETA: 0s - loss: 0.0291 - accuracy: 0.9902\n",
            "Epoch 5: val_loss did not improve from 0.03798\n",
            "710/710 [==============================] - 503s 709ms/step - loss: 0.0291 - accuracy: 0.9902 - val_loss: 0.0420 - val_accuracy: 0.9860\n",
            "Epoch 6/30\n",
            "710/710 [==============================] - ETA: 0s - loss: 0.0243 - accuracy: 0.9917\n",
            "Epoch 6: val_loss improved from 0.03798 to 0.03443, saving model to ./model/initial_runs_20221012_1205/af_lstm_weights.06-0.03.hdf5\n",
            "710/710 [==============================] - 501s 706ms/step - loss: 0.0243 - accuracy: 0.9917 - val_loss: 0.0344 - val_accuracy: 0.9883\n",
            "Epoch 7/30\n",
            "710/710 [==============================] - ETA: 0s - loss: 0.0204 - accuracy: 0.9929\n",
            "Epoch 7: val_loss did not improve from 0.03443\n",
            "710/710 [==============================] - 511s 720ms/step - loss: 0.0204 - accuracy: 0.9929 - val_loss: 0.0545 - val_accuracy: 0.9825\n",
            "Epoch 8/30\n",
            "710/710 [==============================] - ETA: 0s - loss: 0.0186 - accuracy: 0.9933\n",
            "Epoch 8: val_loss did not improve from 0.03443\n",
            "710/710 [==============================] - 513s 722ms/step - loss: 0.0186 - accuracy: 0.9933 - val_loss: 0.0534 - val_accuracy: 0.9829\n",
            "Epoch 9/30\n",
            "710/710 [==============================] - ETA: 0s - loss: 0.0153 - accuracy: 0.9946\n",
            "Epoch 9: val_loss did not improve from 0.03443\n",
            "710/710 [==============================] - 511s 720ms/step - loss: 0.0153 - accuracy: 0.9946 - val_loss: 0.0399 - val_accuracy: 0.9877\n",
            "Epoch 10/30\n",
            "710/710 [==============================] - ETA: 0s - loss: 0.0142 - accuracy: 0.9949\n",
            "Epoch 10: val_loss did not improve from 0.03443\n",
            "710/710 [==============================] - 502s 708ms/step - loss: 0.0142 - accuracy: 0.9949 - val_loss: 0.0618 - val_accuracy: 0.9829\n",
            "Epoch 11/30\n",
            "710/710 [==============================] - ETA: 0s - loss: 0.0131 - accuracy: 0.9953\n",
            "Epoch 11: val_loss did not improve from 0.03443\n",
            "710/710 [==============================] - 499s 703ms/step - loss: 0.0131 - accuracy: 0.9953 - val_loss: 0.0424 - val_accuracy: 0.9881\n",
            "Epoch 11: early stopping\n"
          ]
        }
      ],
      "source": [
        "# fit the model\n",
        "history = model.fit(x_train, y_train,\n",
        "                    epochs=n_epochs,\n",
        "                    batch_size=batch_size,\n",
        "                    verbose = 1,\n",
        "                    validation_data=(x_test, y_test),\n",
        "                    shuffle=True,\n",
        "                    callbacks=[check_pointer, early_stop])"
      ]
    },
    {
      "cell_type": "code",
      "execution_count": null,
      "metadata": {
        "colab": {
          "base_uri": "https://localhost:8080/"
        },
        "id": "ngbHo3yZkC3B",
        "outputId": "ec36e7a1-a7a3-4ddd-f194-38f8daeefc8a"
      },
      "outputs": [
        {
          "output_type": "stream",
          "name": "stdout",
          "text": [
            "best validation accuracy = 0.988305\n"
          ]
        }
      ],
      "source": [
        "# get the best validation accuracy\n",
        "best_accuracy = max(history.history['val_accuracy'])\n",
        "print('best validation accuracy = {0:f}'.format(best_accuracy))"
      ]
    },
    {
      "cell_type": "code",
      "execution_count": null,
      "metadata": {
        "colab": {
          "base_uri": "https://localhost:8080/",
          "height": 295
        },
        "id": "1TQIkxYWIeCF",
        "outputId": "2baa1a79-8f47-44bd-d2f5-94c292c6d597"
      },
      "outputs": [
        {
          "output_type": "display_data",
          "data": {
            "text/plain": [
              "<Figure size 432x288 with 1 Axes>"
            ],
            "image/png": "[encoded data removed]"
          },
          "metadata": {
            "needs_background": "light"
          }
        }
      ],
      "source": [
        "import matplotlib.pyplot as plt\n",
        "\n",
        "# plot the results\n",
        "# plot validation accuracy \n",
        "f1 = plt.figure()\n",
        "ax1 = f1.add_subplot(111)\n",
        "plt.plot(history.history['accuracy'])\n",
        "plt.plot(history.history['val_accuracy'])\n",
        "plt.title('training and validation accuracy of af diagnosis')\n",
        "plt.ylabel('accuracy')\n",
        "plt.xlabel('epoch')\n",
        "plt.legend(['train', 'test'], loc='upper left')\n",
        "plt.text(0.4, 0.05, \n",
        "         ('validation accuracy = {0:.3f}'.format(best_accuracy)), \n",
        "         ha='left', va='center', \n",
        "         transform=ax1.transAxes)\n",
        "plt.savefig('af_lstm_training_accuracy_{0}.png'\n",
        "            .format(time.strftime(\"%Y%m%d_%H%M\")))"
      ]
    },
    {
      "cell_type": "code",
      "execution_count": null,
      "metadata": {
        "colab": {
          "base_uri": "https://localhost:8080/",
          "height": 295
        },
        "id": "cr0cWc9yIlxk",
        "outputId": "f822393b-4de1-4b53-c0b9-0e74ebb7bd38"
      },
      "outputs": [
        {
          "output_type": "display_data",
          "data": {
            "text/plain": [
              "<Figure size 432x288 with 1 Axes>"
            ],
            "image/png": "[encoded data removed]"
          },
          "metadata": {
            "needs_background": "light"
          }
        }
      ],
      "source": [
        "# print validation loss\n",
        "f2 = plt.figure()\n",
        "ax2 = f2.add_subplot(111)\n",
        "plt.plot(history.history['loss'])\n",
        "plt.plot(history.history['val_loss'])\n",
        "plt.title('training and validation loss of af diagnosis')\n",
        "plt.ylabel('loss')\n",
        "plt.xlabel('epoch')\n",
        "plt.legend(['train', 'test'], loc='upper right')\n",
        "plt.text(0.4, 0.05, \n",
        "         ('validation loss = {0:.3f}'\n",
        "          .format(min(history.history['val_loss']))), \n",
        "         ha='right', va='top', \n",
        "         transform=ax2.transAxes)\n",
        "plt.savefig('af_lstm_training_loss_{0}.png'\n",
        "            .format(time.strftime(\"%Y%m%d_%H%M\")))"
      ]
    },
    {
      "cell_type": "code",
      "execution_count": null,
      "metadata": {
        "id": "Af2fgvofItMq",
        "colab": {
          "base_uri": "https://localhost:8080/"
        },
        "outputId": "01889bad-c6a9-4751-d72b-51b1a183a37d"
      },
      "outputs": [
        {
          "output_type": "execute_result",
          "data": {
            "text/plain": [
              "[0.914415180683136,\n",
              " 0.9802004098892212,\n",
              " 0.985756516456604,\n",
              " 0.9886013865470886,\n",
              " 0.9902440905570984,\n",
              " 0.9917036890983582,\n",
              " 0.9929057955741882,\n",
              " 0.9933313131332397,\n",
              " 0.9946242570877075,\n",
              " 0.9949423670768738,\n",
              " 0.9952893257141113]"
            ]
          },
          "metadata": {},
          "execution_count": 38
        }
      ],
      "source": [
        "history.history['accuracy']"
      ]
    },
    {
      "cell_type": "code",
      "source": [
        "history.history['loss']"
      ],
      "metadata": {
        "colab": {
          "base_uri": "https://localhost:8080/"
        },
        "id": "8PzZwChUhdmJ",
        "outputId": "f1d452b7-051b-4641-adff-9596b4441891"
      },
      "execution_count": null,
      "outputs": [
        {
          "output_type": "execute_result",
          "data": {
            "text/plain": [
              "[0.20837722718715668,\n",
              " 0.057518765330314636,\n",
              " 0.04201393947005272,\n",
              " 0.03406301140785217,\n",
              " 0.029121046885848045,\n",
              " 0.024323541671037674,\n",
              " 0.02039741724729538,\n",
              " 0.01857607811689377,\n",
              " 0.015325365588068962,\n",
              " 0.014208758249878883,\n",
              " 0.013148670084774494]"
            ]
          },
          "metadata": {},
          "execution_count": 39
        }
      ]
    },
    {
      "cell_type": "code",
      "source": [
        "history.history['val_accuracy']"
      ],
      "metadata": {
        "colab": {
          "base_uri": "https://localhost:8080/"
        },
        "id": "pjJILy7Ehd8i",
        "outputId": "edd150a6-570e-47a3-f724-b5085c5faef2"
      },
      "execution_count": null,
      "outputs": [
        {
          "output_type": "execute_result",
          "data": {
            "text/plain": [
              "[0.9535971879959106,\n",
              " 0.9806796312332153,\n",
              " 0.9797832369804382,\n",
              " 0.9872189164161682,\n",
              " 0.9860126376152039,\n",
              " 0.9883053302764893,\n",
              " 0.9825055003166199,\n",
              " 0.9829351305961609,\n",
              " 0.9877228736877441,\n",
              " 0.9829309582710266,\n",
              " 0.9881483316421509]"
            ]
          },
          "metadata": {},
          "execution_count": 40
        }
      ]
    },
    {
      "cell_type": "code",
      "source": [
        "history.history['val_loss']"
      ],
      "metadata": {
        "colab": {
          "base_uri": "https://localhost:8080/"
        },
        "id": "oGSGC_W8hekY",
        "outputId": "7c8f45ac-1dfa-42e2-eb88-966341eed067"
      },
      "execution_count": null,
      "outputs": [
        {
          "output_type": "execute_result",
          "data": {
            "text/plain": [
              "[0.11782262474298477,\n",
              " 0.055930640548467636,\n",
              " 0.05823503062129021,\n",
              " 0.037980951368808746,\n",
              " 0.041985347867012024,\n",
              " 0.03443276137113571,\n",
              " 0.05452558025717735,\n",
              " 0.05343681573867798,\n",
              " 0.03992027789354324,\n",
              " 0.061819836497306824,\n",
              " 0.04244561493396759]"
            ]
          },
          "metadata": {},
          "execution_count": 41
        }
      ]
    },
    {
      "cell_type": "code",
      "source": [
        "pred = model.predict(x_test)"
      ],
      "metadata": {
        "id": "-P_inJbFhp08"
      },
      "execution_count": null,
      "outputs": []
    },
    {
      "cell_type": "code",
      "source": [
        "pred_ = []\n",
        "\n",
        "for i in range(len(pred)):\n",
        "  if pred[i] >= 0.5:\n",
        "    pred_.append(1)\n",
        "  else:\n",
        "    pred_.append(0)"
      ],
      "metadata": {
        "id": "ciVVQbEUi4_x"
      },
      "execution_count": null,
      "outputs": []
    },
    {
      "cell_type": "code",
      "source": [
        "# generate classification report for model evaluation\n",
        "from sklearn.metrics import classification_report"
      ],
      "metadata": {
        "id": "1ASXU6AGoJ09"
      },
      "execution_count": null,
      "outputs": []
    },
    {
      "cell_type": "code",
      "source": [
        "print(classification_report(y_test, pred_, labels = [0, 1]))"
      ],
      "metadata": {
        "colab": {
          "base_uri": "https://localhost:8080/"
        },
        "id": "Pyew71MBodgT",
        "outputId": "7dc1bfc1-fcd8-4abe-9123-2dc9b75359b8"
      },
      "execution_count": null,
      "outputs": [
        {
          "output_type": "stream",
          "name": "stdout",
          "text": [
            "              precision    recall  f1-score   support\n",
            "\n",
            "           0       0.99      0.99      0.99    132570\n",
            "           1       0.99      0.98      0.99    109506\n",
            "\n",
            "    accuracy                           0.99    242076\n",
            "   macro avg       0.99      0.99      0.99    242076\n",
            "weighted avg       0.99      0.99      0.99    242076\n",
            "\n"
          ]
        }
      ]
    },
    {
      "cell_type": "code",
      "source": [
        "# generate confusion matrix for model evaluation\n",
        "from sklearn.metrics import confusion_matrix"
      ],
      "metadata": {
        "id": "j4hZd5mfpX3I"
      },
      "execution_count": null,
      "outputs": []
    },
    {
      "cell_type": "code",
      "source": [
        "confusion_matrix(y_test, pred_, labels = [0, 1])"
      ],
      "metadata": {
        "colab": {
          "base_uri": "https://localhost:8080/"
        },
        "id": "bmDgfQq5pd6W",
        "outputId": "e899bce8-f977-43b7-8c96-76c92e4f8543"
      },
      "execution_count": null,
      "outputs": [
        {
          "output_type": "execute_result",
          "data": {
            "text/plain": [
              "array([[131446,   1124],\n",
              "       [  1745, 107761]])"
            ]
          },
          "metadata": {},
          "execution_count": 64
        }
      ]
    },
    {
      "cell_type": "code",
      "source": [
        "# generate AUC score for model evaluation\n",
        "from sklearn.metrics import roc_auc_score"
      ],
      "metadata": {
        "id": "YMZcc8bor0Tr"
      },
      "execution_count": null,
      "outputs": []
    },
    {
      "cell_type": "code",
      "source": [
        "auc = np.round(roc_auc_score(y_test, pred), 3)\n",
        "print('AUC for our sample data is {}'.format(auc))"
      ],
      "metadata": {
        "colab": {
          "base_uri": "https://localhost:8080/"
        },
        "id": "qbf3DSzZr7fy",
        "outputId": "c2ca0c35-4f03-48a4-83bb-6d6d0fda02a6"
      },
      "execution_count": null,
      "outputs": [
        {
          "output_type": "stream",
          "name": "stdout",
          "text": [
            "AUC for our sample data is 0.998\n"
          ]
        }
      ]
    }
  ],
  "metadata": {
    "accelerator": "GPU",
    "colab": {
      "collapsed_sections": [],
      "provenance": []
    },
    "kernelspec": {
      "display_name": "Python 3",
      "name": "python3"
    },
    "language_info": {
      "name": "python"
    }
  },
  "nbformat": 4,
  "nbformat_minor": 0
}